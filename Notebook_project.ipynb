{
 "cells": [
  {
   "cell_type": "code",
   "execution_count": 1,
   "metadata": {},
   "outputs": [],
   "source": [
    "# Importo dipendenze.\n",
    "import numpy as np\n",
    "import pandas as pd\n",
    "import matplotlib.pyplot as plt\n",
    "from sklearn.linear_model import LinearRegression\n",
    "from sklearn.preprocessing import PolynomialFeatures\n",
    "from sklearn.pipeline import Pipeline\n",
    "from sklearn.linear_model import Ridge\n",
    "from sklearn.kernel_ridge import KernelRidge\n",
    "from sklearn.model_selection import GridSearchCV"
   ]
  },
  {
   "cell_type": "code",
   "execution_count": 39,
   "metadata": {},
   "outputs": [],
   "source": [
    "# Metodo che importa i dati da un foglio di formato excel. Per come è strutturato questo file, il modo corretto per caricare i dati è:\n",
    "def get_data(filename, sheetname):\n",
    "    dataset = pd.read_excel(\n",
    "        filename,\n",
    "        sheet_name=sheetname,\n",
    "        index_col=3,\n",
    "        usecols=5,\n",
    "        skiprows=8,\n",
    "    ).dropna(axis=1)\n",
    "    return dataset\n",
    "\n",
    "# Importo i dati nella variabile gold_daily e prendo solo la colonna relativa agli \"Euro\", importandola come serie.\n",
    "gold = get_data(\"gold_price.xls\", \"Weekly_EndofPeriod\")\n",
    "gold = gold[\"Euro\"]"
   ]
  },
  {
   "cell_type": "code",
   "execution_count": 3,
   "metadata": {},
   "outputs": [],
   "source": [
    "# Metodo che mostra il grafico del nostro dataset.\n",
    "def show_plot(dataset):\n",
    "    dataset.plot(title=\"Grafico dell'andamento del prezzo dell'oro dal 1979 al giorno d'oggi\", figsize=(12, 4))\n",
    "    plt.ylabel(\"Euro\")\n",
    "    plt.show()\n",
    "\n",
    "# Metodo che mostra il grafico del nostro dataset in un lasso di tempo specifico. \n",
    "def show_period_plot(i_date, f_date, dataset):\n",
    "    dataset[i_date: f_date].plot(style=\"o-\", figsize=(12, 4))\n",
    "    plt.ylabel(\"Euro\")\n",
    "    plt.show()"
   ]
  },
  {
   "cell_type": "code",
   "execution_count": 4,
   "metadata": {},
   "outputs": [],
   "source": [
    "# Creo un nuovo dataset composto dalla differenza del prezzo da una settimana all'altra.\n",
    "gold_diff = gold.diff()"
   ]
  },
  {
   "cell_type": "code",
   "execution_count": 42,
   "metadata": {},
   "outputs": [],
   "source": [
    "# Metodo che crea un nuovo dataset con la strategia per predire i valori futuri.\n",
    "def extract_features(dataset, weeks):\n",
    "    y = dataset\n",
    "    X = pd.DataFrame({\"col{}\".format(i): dataset.shift(i)\n",
    "        for i in range(1, weeks+1)}).dropna()\n",
    "    y = dataset.reindex_like(X)\n",
    "    return X, y"
   ]
  },
  {
   "cell_type": "code",
   "execution_count": 43,
   "metadata": {},
   "outputs": [],
   "source": [
    "# Estraggo dal nostro dataset, tramite il metodo extract_features un training set e un validation set.\n",
    "Xt, yt = extract_features(gold_daily_diff[\"1979\":\"2015\"], 3)\n",
    "Xv, yv = extract_features(gold_daily_diff[\"2016\":\"2018\"], 3)"
   ]
  },
  {
   "cell_type": "code",
   "execution_count": 7,
   "metadata": {},
   "outputs": [],
   "source": [
    "# Metodo che valuta l'accuratezza del modello. Considera la capacità di prevedere correttamente se il prezzo aumenta o diminuisce.\n",
    "def accuracy(model, X, y):\n",
    "    return (np.sign(model.predict(X)) == np.sign(y)).mean()"
   ]
  },
  {
   "cell_type": "code",
   "execution_count": 44,
   "metadata": {},
   "outputs": [
    {
     "name": "stdout",
     "output_type": "stream",
     "text": [
      "Accuratezza lrm: 48.15%\n"
     ]
    }
   ],
   "source": [
    "# Addestro un modello di regressione lineare sul training set.\n",
    "lrm = LinearRegression()\n",
    "lrm.fit(Xt, yt)\n",
    "# Testo l'accuratezza sul modello.\n",
    "lrm_accuracy = accuracy(lrm, Xv, yv)\n",
    "print(\"Accuratezza lrm: {:.2%}\".format(lrm_accuracy))"
   ]
  },
  {
   "cell_type": "code",
   "execution_count": 60,
   "metadata": {},
   "outputs": [
    {
     "name": "stdout",
     "output_type": "stream",
     "text": [
      "Accuratezza prm di grado 8: 49.85%\n"
     ]
    }
   ],
   "source": [
    "# Addestro un modello di regressione polinomiale di grado 8 sul training set.\n",
    "prm = Pipeline([\n",
    "    (\"poly\", PolynomialFeatures(degree=3, include_bias=False)),\n",
    "    (\"linreg\", LinearRegression())\n",
    "])\n",
    "prm.fit(Xt, yt)\n",
    "# Testo l'accuratezza sul modello.\n",
    "prm_accuracy = accuracy(prm, Xv, yv)\n",
    "print(\"Accuratezza prm di grado 8: {:.2%}\".format(prm_accuracy))"
   ]
  },
  {
   "cell_type": "code",
   "execution_count": 53,
   "metadata": {},
   "outputs": [
    {
     "name": "stdout",
     "output_type": "stream",
     "text": [
      "Accuratezza rrm : 48.15%\n"
     ]
    }
   ],
   "source": [
    "# Addestro un modello di regressione lineare con regolarizzazione sul training set.\n",
    "rrm = Ridge(alpha=0.1)\n",
    "rrm.fit(Xt, yt)\n",
    "# Testo l'accuratezza sul modello.\n",
    "rrm_accuracy = accuracy(rrm, Xv, yv)\n",
    "print(\"Accuratezza rrm : {:.2%}\".format(rrm_accuracy))"
   ]
  },
  {
   "cell_type": "code",
   "execution_count": 54,
   "metadata": {},
   "outputs": [
    {
     "name": "stdout",
     "output_type": "stream",
     "text": [
      "Accuratezza prrm di grado 4: 52.16%\n"
     ]
    }
   ],
   "source": [
    "# Addestro un modello di regressione polinomiale di grado 4 con regolarizzazione sul training set.\n",
    "prrm = Pipeline([\n",
    "    (\"poly\", PolynomialFeatures(degree=4, include_bias=False)),\n",
    "    (\"ridge\", Ridge(alpha=0.1))\n",
    "])\n",
    "prrm.fit(Xt, yt)\n",
    "# Testo l'accuratezza sul modello.\n",
    "prrm_accuracy = accuracy(prrm, Xv, yv)\n",
    "print(\"Accuratezza prrm di grado 4: {:.2%}\".format(prrm_accuracy))"
   ]
  },
  {
   "cell_type": "code",
   "execution_count": 56,
   "metadata": {},
   "outputs": [
    {
     "name": "stdout",
     "output_type": "stream",
     "text": [
      "Accuratezza krrm: 49.07%\n"
     ]
    }
   ],
   "source": [
    "# Addestro un modello di regressione con metodo kernel sul training set.\n",
    "krrm = KernelRidge(alpha=0.1)\n",
    "krrm.fit(Xt, yt)\n",
    "# Testo l'accuratezza sul modello.\n",
    "krrm_accuracy = accuracy(krrm, Xv, yv)\n",
    "print(\"Accuratezza krrm: {:.2%}\".format(krrm_accuracy))"
   ]
  },
  {
   "cell_type": "code",
   "execution_count": 35,
   "metadata": {},
   "outputs": [
    {
     "name": "stderr",
     "output_type": "stream",
     "text": [
      "C:\\Users\\Luca\\Anaconda3\\lib\\site-packages\\sklearn\\linear_model\\ridge.py:154: UserWarning: Singular matrix in solving dual problem. Using least-squares solution instead.\n",
      "  warnings.warn(\"Singular matrix in solving dual problem. Using \"\n"
     ]
    },
    {
     "name": "stdout",
     "output_type": "stream",
     "text": [
      "Accuratezza krrmp: 48.53%\n"
     ]
    }
   ],
   "source": [
    "# Addestro un modello di regressione con metodo kernel polinomiale di grado 8 sul training set.\n",
    "krrmp = KernelRidge(alpha=0.1, kernel=\"poly\", degree=8)\n",
    "krrmp.fit(Xt, yt)\n",
    "# Testo l'accuratezza sul modello.\n",
    "krrmp_accuracy = accuracy(krrmp, Xv, yv)\n",
    "print(\"Accuratezza krrmp: {:.2%}\".format(krrmp_accuracy))"
   ]
  },
  {
   "cell_type": "code",
   "execution_count": 36,
   "metadata": {},
   "outputs": [
    {
     "name": "stdout",
     "output_type": "stream",
     "text": [
      "Accuratezza krrmr: 49.37%\n"
     ]
    }
   ],
   "source": [
    "# Addestro un modello di regressione con metodo kernel RBF sul training set.\n",
    "krrmr = KernelRidge(alpha=0.1, kernel=\"rbf\", gamma=0.01)\n",
    "krrmr.fit(Xt, yt)\n",
    "# Testo l'accuratezza sul modello.\n",
    "krrmr_accuracy = accuracy(krrmr, Xv, yv)\n",
    "print(\"Accuratezza krrmr: {:.2%}\".format(krrmr_accuracy))"
   ]
  },
  {
   "cell_type": "code",
   "execution_count": 22,
   "metadata": {},
   "outputs": [
    {
     "name": "stdout",
     "output_type": "stream",
     "text": [
      "La combinazione migliore dei parametri che mi da un'accuratezza maggiore è: \n",
      "{'alpha': 0.1, 'gamma': 0.01}\n",
      "La miglior accuratezza dopo il tuning dei parametri è:  0.5040349252546633\n"
     ]
    }
   ],
   "source": [
    "# Testo la regressione con metedo kernel di tipo RBF.\n",
    "gs = GridSearchCV(KernelRidge(kernel=\"rbf\"), {\"alpha\": [0.01, 0.1], \"gamma\": [0.01, 0.1, 1]}, accuracy)\n",
    "gs.fit(Xt, yt)\n",
    "print(\"La combinazione migliore dei parametri che mi da un'accuratezza maggiore è: \")\n",
    "print(gs.best_params_)\n",
    "print(\"La miglior accuratezza dopo il tuning dei parametri è: \", gs.best_score_)"
   ]
  },
  {
   "cell_type": "code",
   "execution_count": 59,
   "metadata": {},
   "outputs": [],
   "source": [
    "# Testo la regressione con metedo kernel di tipo polinomiale.\n",
    "gs = GridSearchCV(KernelRidge(kernel=\"poly\"), {\"degree\": range(1,10)}, accuracy)\n",
    "gs.fit(Xt, yt)\n",
    "print(\"La combinazione migliore dei parametri che mi da un'accuratezza maggiore è: \")\n",
    "print(gs.best_params_)\n",
    "print(\"La miglior accuratezza dopo il tuning dei parametri è: \", gs.best_score_)"
   ]
  },
  {
   "cell_type": "code",
   "execution_count": null,
   "metadata": {},
   "outputs": [],
   "source": []
  }
 ],
 "metadata": {
  "kernelspec": {
   "display_name": "Python 3",
   "language": "python",
   "name": "python3"
  },
  "language_info": {
   "codemirror_mode": {
    "name": "ipython",
    "version": 3
   },
   "file_extension": ".py",
   "mimetype": "text/x-python",
   "name": "python",
   "nbconvert_exporter": "python",
   "pygments_lexer": "ipython3",
   "version": "3.6.4"
  }
 },
 "nbformat": 4,
 "nbformat_minor": 2
}
